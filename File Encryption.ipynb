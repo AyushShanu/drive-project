{
 "cells": [
  {
   "cell_type": "code",
   "execution_count": 2,
   "id": "2f670a2c",
   "metadata": {},
   "outputs": [
    {
     "name": "stdout",
     "output_type": "stream",
     "text": [
      "Enter 'E' to encrypt or 'D' decrypt the file.d\n",
      "Enter the file name to encrypt(including file extension):ayush.txt\n",
      "File Decrypted Successfully!!!\n"
     ]
    }
   ],
   "source": [
    "from cryptography.fernet import Fernet\n",
    "import os\n",
    "\n",
    "\n",
    "def generate_key():\n",
    "  key = Fernet.generate_key()\n",
    "  with open(\"Secret.key\", \"wb\") as key_file:\n",
    "    key_file.write(key)\n",
    "\n",
    "\n",
    "def load_key():\n",
    "  return open(\"Secret.key\", \"rb\").read()\n",
    "\n",
    "\n",
    "def encrypt(filename, key):\n",
    "  f = Fernet(key)\n",
    "  with open(filename, \"rb\") as file:\n",
    "    file_data = file.read()\n",
    "    encrypted_data = f.encrypt(file_data)\n",
    "  with open(filename, \"wb\") as file:\n",
    "    file.write(encrypted_data)\n",
    "\n",
    "\n",
    "def decrypt(filename, key):\n",
    "  f = Fernet(key)\n",
    "  with open(filename, \"rb\") as file:\n",
    "    encrypted_data = file.read()\n",
    "    try:\n",
    "      decrypted_data = f.decrypt(encrypted_data)\n",
    "    except InvalidToken:\n",
    "      print(\"Invalid key\")\n",
    "      return\n",
    "  with open(filename, \"wb\") as file:\n",
    "    file.write(decrypted_data)\n",
    "\n",
    "\n",
    "choice = input(\"Enter 'E' to encrypt or 'D' decrypt the file.\").lower()\n",
    "if choice == 'e':\n",
    "  filename = input(\"Enter the file name to encrypt(including file extension):\")\n",
    "  if os.path.exists(filename):\n",
    "    generate_key()\n",
    "    key = load_key()\n",
    "    encrypt(filename, key)\n",
    "    print(\"File Encrypted Successfully!!!\")\n",
    "  else:\n",
    "    print(\n",
    "      f\"file '{filename}' not found. Please check the file name and try again.\"\n",
    "    )\n",
    "\n",
    "elif choice == \"d\":\n",
    "  filename = input(\"Enter the file name to encrypt(including file extension):\")\n",
    "  if os.path.exists(filename):\n",
    "    key = load_key()\n",
    "    decrypt(filename, key)\n",
    "    print(\"File Decrypted Successfully!!!\")\n",
    "  else:\n",
    "    print(\n",
    "      f\"file '{filename}' not found. Please check the file name and try again.\"\n",
    "    )\n",
    "\n",
    "else:\n",
    "  print(\n",
    "    \"Invalid choice. Please enter 'E' to encrypt a file or 'D' to decrypt a file\"\n",
    "  )"
   ]
  },
  {
   "cell_type": "code",
   "execution_count": null,
   "id": "5c531749",
   "metadata": {},
   "outputs": [],
   "source": []
  }
 ],
 "metadata": {
  "kernelspec": {
   "display_name": "Python 3 (ipykernel)",
   "language": "python",
   "name": "python3"
  },
  "language_info": {
   "codemirror_mode": {
    "name": "ipython",
    "version": 3
   },
   "file_extension": ".py",
   "mimetype": "text/x-python",
   "name": "python",
   "nbconvert_exporter": "python",
   "pygments_lexer": "ipython3",
   "version": "3.11.4"
  }
 },
 "nbformat": 4,
 "nbformat_minor": 5
}
